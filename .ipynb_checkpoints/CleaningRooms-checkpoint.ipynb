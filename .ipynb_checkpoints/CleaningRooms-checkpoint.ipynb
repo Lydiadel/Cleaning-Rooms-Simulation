{
 "cells": [
  {
   "cell_type": "code",
   "execution_count": 1,
   "id": "ba2a73c7",
   "metadata": {
    "scrolled": true
   },
   "outputs": [],
   "source": [
    "import agentpy as ap\n",
    "\n",
    "# Visualization\n",
    "import matplotlib.pyplot as plt\n",
    "\n",
    "import seaborn as sns\n",
    "import IPython\n",
    "import random\n",
    "import time\n",
    "import pandas as pd"
   ]
  },
  {
   "cell_type": "code",
   "execution_count": 2,
   "id": "3d07ea0c",
   "metadata": {
    "scrolled": true
   },
   "outputs": [],
   "source": [
    "casillas = 1\n",
    "valid_moves = []\n",
    "for i in range(casillas+1):\n",
    "    for j in range(casillas+1):\n",
    "        valid_moves.append((-i,-j))\n",
    "        valid_moves.append((i, -j))\n",
    "        valid_moves.append((-i,j))\n",
    "        valid_moves.append((i,j))\n",
    "\n",
    "# Eliminar valores repetidos\n",
    "valid_moves = [*set(valid_moves)]"
   ]
  },
  {
   "cell_type": "code",
   "execution_count": 3,
   "id": "56a5c1e8",
   "metadata": {
    "scrolled": true
   },
   "outputs": [],
   "source": [
    "class CleaningRooms(ap.Model):\n",
    "    \n",
    "    def setup(self):\n",
    "\n",
    "        # Create agents (trees)\n",
    "        n_habitaciones = int(self.p['Rooms uncleaned'] * (self.p.Height * self.p.Length))\n",
    "        \n",
    "        #trees = self.agents = self.add_agents(n_trees)\n",
    "        habitaciones = self.agents = ap.AgentList(self, n_habitaciones)\n",
    "\n",
    "        ## Create agents (cleaning machine)\n",
    "        n_cleaners = int(self.p['Cleaners'])\n",
    "        cleaners = self.other_agents = ap.AgentList(self, n_cleaners)\n",
    "        \n",
    "        # Create grid (cuarto)\n",
    "        #self.espacio = ap.Grid(self, [self.p.size]*2, track_empty=True)\n",
    "        self.espacio = ap.Grid(self, (self.p.Height, self.p.Length), track_empty=True)\n",
    "        self.espacio.add_agents(habitaciones, random=True, empty=True)\n",
    "\n",
    "        tuple_positions = [(1,1) for _ in range(len(self.other_agents)) ]\n",
    "        self.espacio.add_agents(cleaners, positions=tuple_positions,empty=True )\n",
    "        # Initiate a dynamic variable for all trees\n",
    "        # Condition 0: Uncleaned, 1: Cleaned, 2: Cleaning, 3: Agents machines\n",
    "        self.agents.condition = 0\n",
    "        self.other_agents.condition = 3 #3\n",
    "\n",
    "    def step(self):\n",
    "\n",
    "\n",
    "        # Select cleaning rooms\n",
    "        cleaning_rooms = self.other_agents.select(self.agents.condition == 1)\n",
    "        \n",
    "        global total_steps\n",
    "        #for hab in cleaning_rooms:\n",
    "        total_steps += 1\n",
    "        \n",
    "        for ag in self.other_agents:\n",
    "            # Clean rooms\n",
    "            for neighbor in self.espacio.neighbors(ag,0):    \n",
    "                # Change uncleaned condition to cleaning\n",
    "                if neighbor.condition == 0:\n",
    "                    neighbor.condition = 2 #2 \n",
    "                    break\n",
    "                    \n",
    "                # Once room is cleaned move to another position\n",
    "                elif neighbor.condition == 2: #2\n",
    "                    neighbor.condition = 1\n",
    "                 \n",
    "            \n",
    "            else:\n",
    "                random_move = random.choice(valid_moves)\n",
    "                #for neighbor in self.espacio.neighbors(hab):\n",
    "                self.espacio.move_by(ag, random_move)\n",
    "                global moves_room \n",
    "                moves_room += 1\n",
    "                \n",
    "        \n",
    "            \n",
    "        \n",
    "\n",
    "    def end(self):\n",
    "\n",
    "        # Document a measure at the end of the simulation\n",
    "        cleaned_rooms = len(self.agents.select(self.agents.condition == 1))\n",
    "        self.report('Percentage of cleaned rooms',\n",
    "                    cleaned_rooms / len(self.agents))\n",
    "        self.report('cleaned_rooms', cleaned_rooms)\n",
    "        \n"
   ]
  },
  {
   "cell_type": "code",
   "execution_count": 4,
   "id": "2c7fe340",
   "metadata": {
    "scrolled": true
   },
   "outputs": [],
   "source": [
    "# Define parameters\n",
    "\n",
    "parameters = {\n",
    "    'Rooms uncleaned': 1, #  0.9, # Percentage of rooms uncleaned\n",
    "    'Cleaners': 1, # Machine cleaners\n",
    "    'Length': 2, # Length of the grid\n",
    "    'Height': 80, # Height of the grid\n",
    "    'steps': 100 # Max steps\n",
    "}"
   ]
  },
  {
   "cell_type": "code",
   "execution_count": 8,
   "id": "89ee0f5f",
   "metadata": {
    "scrolled": true
   },
   "outputs": [],
   "source": [
    "# Create single-run animation with custom colors\n",
    "\n",
    "moves_room = 0\n",
    "total_steps = 0\n",
    "def animation_plot(model, ax):\n",
    "    attr_grid = model.espacio.attr_grid('condition')\n",
    "    color_dict = {0:'#986F53', 1:'#FFFFFF', 2:'#CAFFFD', 3:'#0060ff' , None:'#D4D4D4'}\n",
    "    ap.gridplot(attr_grid, ax=ax, color_dict=color_dict, convert=True)\n",
    "    \n",
    "    ax.set_title(\n",
    "                fr\"$\\bfSimulation\\ of\\ agents\\ cleaning\\ rooms $\"\n",
    "                 \n",
    "                )\n"
   ]
  },
  {
   "cell_type": "code",
   "execution_count": null,
   "id": "08fce3a6",
   "metadata": {
    "scrolled": true
   },
   "outputs": [],
   "source": []
  },
  {
   "cell_type": "code",
   "execution_count": null,
   "id": "093f0722",
   "metadata": {
    "scrolled": true
   },
   "outputs": [],
   "source": []
  }
 ],
 "metadata": {
  "kernelspec": {
   "display_name": "Python 3 (ipykernel)",
   "language": "python",
   "name": "python3"
  },
  "language_info": {
   "codemirror_mode": {
    "name": "ipython",
    "version": 3
   },
   "file_extension": ".py",
   "mimetype": "text/x-python",
   "name": "python",
   "nbconvert_exporter": "python",
   "pygments_lexer": "ipython3",
   "version": "3.7.13"
  },
  "vscode": {
   "interpreter": {
    "hash": "76264df9f9093baf96c396d94724578e9d7a9f1df28c142eb3f9645a5aff80a9"
   }
  }
 },
 "nbformat": 4,
 "nbformat_minor": 5
}
